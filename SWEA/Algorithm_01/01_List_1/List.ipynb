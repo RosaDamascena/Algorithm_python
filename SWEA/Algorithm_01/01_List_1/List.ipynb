{
 "cells": [
  {
   "cell_type": "markdown",
   "metadata": {},
   "source": [
    "# 01_List\n",
    "\n",
    "### 정렬"
   ]
  },
  {
   "cell_type": "markdown",
   "metadata": {},
   "source": [
    "- 버블 정렬 알고리즘"
   ]
  },
  {
   "cell_type": "code",
   "execution_count": 7,
   "metadata": {},
   "outputs": [],
   "source": [
    "def BubbleSort(a, N) :  # 정렬할 List a,  N 원소 수\n",
    "    for i in range(N-1, 0, -1) :    # 정렬될 구간의 끝\n",
    "        for j in range(0, i) :  # 비교할 원소 중 왼쪽 원소의 인덱스\n",
    "            if a[j] > a[j+1] :  # 왼쪽 원소가 더 크면\n",
    "                a[j], a[j+1] = a[j+1], a[j]  # 오른쪽 원소와 교환"
   ]
  },
  {
   "cell_type": "markdown",
   "metadata": {},
   "source": [
    "- 카운팅 정렬 알고리즘"
   ]
  },
  {
   "cell_type": "code",
   "execution_count": 4,
   "metadata": {},
   "outputs": [],
   "source": [
    "def Counting_Sort(A, B, k) :\n",
    "# A -- 입력 배열(0 to k)\n",
    "# B -- 정렬된 배열\n",
    "# C -- 카운트 배열\n",
    "\n",
    "    C = [0] * (k+1)\n",
    "\n",
    "    for i in range(0, len(A)) :\n",
    "        C[A[i]] += 1\n",
    "    \n",
    "    for i in range(1, len(C)) :\n",
    "        C[i] += C[i-1]\n",
    "    \n",
    "    for i in range(len(B)-1, -1, -1) :\n",
    "        C[A[i]] -= 1\n",
    "        B[C[A[i]]] = A[i]"
   ]
  },
  {
   "cell_type": "markdown",
   "metadata": {},
   "source": [
    "- Baby-Gin Game\n",
    "  - 완전 검색 방법\n",
    "  <br>\n",
    "  : 문제의 해법으로 생각할 수 있는 모든 경우의 수를 나열해보고 확인하는 기법이다.\n",
    "  1. Brute-force 혹은 generate-and-test 기법이라고도 불린다.\n",
    "  2. 모든 경우의 수를 테스트한 후, 최종 해법을 도출한다.\n",
    "  3. 일반적으로 경우의 수가 상대적으로 작을 때 유용하다.\n",
    "  4. 모든 경우의 수를 생성하고 테스트하기 때문에 수행 속도는 느리지만, 해답을 찾아내지 모살 확률이 적다.\n",
    "  5. 자격검정평가 등에서 주어진 문제를 풀 때, 우선 완전 검색으로 접근하여 해답을 도출한 후, 성능 개선을 위해 다른 알고리즘을 사용하고 해답을 확인하는 것이 바람직하다."
   ]
  },
  {
   "cell_type": "code",
   "execution_count": 3,
   "metadata": {},
   "outputs": [
    {
     "name": "stdout",
     "output_type": "stream",
     "text": [
      "Baby Gin\n"
     ]
    }
   ],
   "source": [
    "num = 456789\n",
    "c = [0] * 12\n",
    "\n",
    "for i in range(6) :\n",
    "    c[num % 10] += 1\n",
    "    num //= 10\n",
    "\n",
    "i = 0\n",
    "tri = run = 0\n",
    "while i < 10 :\n",
    "    if c[i] >= 3 :\n",
    "        c[i] -= 3\n",
    "        tri += 1\n",
    "        continue\n",
    "    if c[i] >= 1 and c[i+1] >= c[i+2] >= 1 :\n",
    "        c[i] -= 1\n",
    "        c[i+1] -= 1\n",
    "        c[i+2] -= 1\n",
    "        run += 1\n",
    "        continue\n",
    "    i += 1\n",
    "    \n",
    "if run + tri == 2 :\n",
    "    print(\"Baby Gin\")\n",
    "else :\n",
    "    print(\"Lose\")"
   ]
  },
  {
   "cell_type": "code",
   "execution_count": null,
   "metadata": {},
   "outputs": [],
   "source": []
  }
 ],
 "metadata": {
  "kernelspec": {
   "display_name": "Python 3",
   "language": "python",
   "name": "python3"
  },
  "language_info": {
   "codemirror_mode": {
    "name": "ipython",
    "version": 3
   },
   "file_extension": ".py",
   "mimetype": "text/x-python",
   "name": "python",
   "nbconvert_exporter": "python",
   "pygments_lexer": "ipython3",
   "version": "3.9.13"
  },
  "orig_nbformat": 4
 },
 "nbformat": 4,
 "nbformat_minor": 2
}
