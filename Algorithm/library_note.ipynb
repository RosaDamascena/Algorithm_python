{
 "cells": [
  {
   "cell_type": "markdown",
   "metadata": {},
   "source": [
    "# 실전에서 유용한 표준 라이브러리\n",
    "---\n",
    "\n",
    "- 내장 함수 : 기본 입출력 함수부터 정렬 함수까지 기본적인 함수들을 제공 \n",
    "    - 파이썬 프로그램을 작성할 때 없어서는 안 되는 필수적인 기능을 포함하고 있음\n",
    "\n",
    "<br>\n",
    "\n",
    "- itertools : 파이싼에서 반복되는 형태의 데이터를 처리하기 위한 유용한 기능들을 제공\n",
    "    - 특히 순열과 조합 라이브러리는 코딩 테스트에서 자주 사용됨\n",
    "\n",
    "<br>\n",
    "\n",
    "- heap : 힙(Heap) 자료구조를 제공\n",
    "    - 일반적으로 우선순위 큐 기능을 구현하기 위해 사용됨\n",
    "\n",
    "<br>\n",
    "\n",
    "- bisect : 이진 탐색(Binary Search) 기능을 제공\n",
    "\n",
    "<br>\n",
    "\n",
    "- collections : 덱(deque), 카운터(Counter) 등의 유용한 자료구조를 포함\n",
    "\n",
    "<br>\n",
    "\n",
    "- math : 필수적인 수학적 기능을 제공\n",
    "    - 팩토리얼, 제곱근, 최대공약수(GCD), 삼각함수 관련 함수부터 파이(pi)와 같은 상수를 포함"
   ]
  },
  {
   "cell_type": "markdown",
   "metadata": {},
   "source": []
  }
 ],
 "metadata": {
  "language_info": {
   "name": "python"
  },
  "orig_nbformat": 4
 },
 "nbformat": 4,
 "nbformat_minor": 2
}
