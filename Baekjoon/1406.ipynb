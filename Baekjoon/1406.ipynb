{
 "cells": [
  {
   "cell_type": "markdown",
   "metadata": {},
   "source": [
    "### 양방향 연결 리스트 풀이 - 백준 1406\n",
    "\n",
    "- class Node: 이 클래스는 이중 연결 리스트의 노드를 나타냅니다. 각 노드는 key 속성으로 데이터를 저장하며, prev와 next 속성으로 이전 노드와 다음 노드를 가리킵니다.\n",
    "\n",
    "- class DoublyLinkedList: 이 클래스는 이중 연결 리스트 자체를 나타냅니다. head 속성은 리스트의 헤더 역할을 하는 특별한 노드입니다. 데이터를 담지 않고 순회를 시작하는 지점으로 사용됩니다.\n",
    "\n",
    "- def __init__(self):: DoublyLinkedList 클래스의 생성자입니다. 리스트를 빈 상태로 초기화합니다. head 노드를 생성하고 자기 자신을 가리키도록 설정합니다.\n",
    "\n",
    "- def __iter__(self):: 이 메서드는 DoublyLinkedList 클래스에 대한 반복자(iterator)를 정의합니다. for 루프나 yield 문을 사용하여 리스트의 모든 요소를 반복할 수 있게 합니다.\n",
    "\n",
    "- def __str__(self):: 이 메서드는 리스트의 문자열 표현을 제공합니다. 리스트의 모든 노드의 key 값을 이어붙인 문자열을 반환합니다.\n",
    "\n",
    "- def splice(self, start_node, end_node, insertion_point):: 이 메서드는 이중 연결 리스트에서 start_node와 end_node 사이의 일련의 노드를 제거하고 insertion_point 다음에 삽입하는 내부적인 연산을 수행합니다.\n",
    "\n",
    "- def move_after(self, node_to_move, insertion_point):: 이 메서드는 splice 메서드를 사용하여 node_to_move 노드를 insertion_point 뒤로 이동합니다.\n",
    "\n",
    "- def move_before(self, node_to_move, insertion_point):: 이 메서드는 splice 메서드를 사용하여 node_to_move 노드를 insertion_point 앞으로 이동합니다.\n",
    "\n",
    "- def insert_before(self, node_to_insert, insertion_point):: 이 메서드는 node_to_insert 노드를 insertion_point 앞에 삽입합니다. 내부적으로 move_before 메서드를 사용합니다.\n",
    "\n",
    "- def delete_node(self, node_to_delete):: 이 메서드는 리스트에서 node_to_delete 노드를 삭제합니다. 인접한 노드들의 prev와 next 포인터를 업데이트하여 삭제 작업을 수행합니다.\n",
    "\n",
    "- linked_list = DoublyLinkedList(): DoublyLinkedList 클래스의 인스턴스인 linked_list를 생성합니다.\n",
    "\n",
    "- cursor_node = Node('|'): key 값으로 '|'을 가지는 노드인 cursor_node를 생성합니다.\n",
    "\n",
    "- text = list(sys.stdin.readline().strip()): 표준 입력에서 한 줄을 읽고 문자열을 리스트로 변환합니다.\n",
    "\n",
    "- for char in text: linked_list.insert_before(Node(char), cursor_node): 입력된 문자열 각각을 cursor_node 앞에 삽입하여 초기 이중 연결 리스트를 구성합니다.\n",
    "\n",
    "- N = int(sys.stdin.readline().strip()): 표준 입력에서 정수 N을 읽습니다.\n",
    "\n",
    "- for _ in range(N):: N번의 명령어 처리를 위한 반복문을 시작합니다.\n",
    "\n",
    "- command = sys.stdin.readline().strip(): 명령어를 표준 입력에서 읽습니다.\n",
    "\n",
    "- 다음 if-elif 문들은 command의 첫 번째 문자를 확인하여 해당하는 연산을 수행합니다:\n",
    "\n",
    "    - a. if command[0] == \"L\" and cursor_node.prev.key is not None:: 현재 노드 cursor_node의 이전 노드가 있는 경우, cursor_node를 이전 노드로 이동시킵니다.\n",
    "\n",
    "    - b. elif command[0] == \"D\" and cursor_node.next.key is not None:: 현재 노드 cursor_node의 다음 노드가 있는 경우, cursor_node를 다음 노드로 이동시킵니다.\n",
    "\n",
    "    - c. elif command[0] == \"B\" and cursor_node.prev.key is not None:: 현재 노드 cursor_node의 이전 노드가 있는 경우, cursor_node의 이전 노드를 삭제합니다.\n",
    "\n",
    "    - d. elif command[0] == \"P\":: 명령어의 세 번째 문자를 가지고 새로운 노드를 생성하여 cursor_node의 앞에 삽입합니다.\n",
    "\n",
    "- linked_list.delete_node(cursor_node): cursor_node 노드를 리스트에서 삭제합니다.\n",
    "\n",
    "- print(linked_list): 모든 명령어를 수행한 뒤의 최종 이중 연결 리스트를 출력합니다."
   ]
  },
  {
   "cell_type": "markdown",
   "metadata": {},
   "source": []
  }
 ],
 "metadata": {
  "language_info": {
   "name": "python"
  },
  "orig_nbformat": 4
 },
 "nbformat": 4,
 "nbformat_minor": 2
}
