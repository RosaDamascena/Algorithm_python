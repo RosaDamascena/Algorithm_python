{
 "cells": [
  {
   "cell_type": "markdown",
   "metadata": {},
   "source": [
    "# 01_List_1\n",
    "\n",
    "### Array, Prefix sum, Bubble sort"
   ]
  },
  {
   "cell_type": "markdown",
   "metadata": {},
   "source": [
    "- 11720 - Sum of num"
   ]
  },
  {
   "cell_type": "code",
   "execution_count": 1,
   "metadata": {},
   "outputs": [
    {
     "name": "stdout",
     "output_type": "stream",
     "text": [
      "15\n"
     ]
    }
   ],
   "source": [
    "N = int(input())\n",
    "\n",
    "T = list(map(int, input().rstrip()))\n",
    "sum = 0\n",
    "for i in T :\n",
    "    sum += i\n",
    "     \n",
    "print(sum)"
   ]
  },
  {
   "cell_type": "markdown",
   "metadata": {},
   "source": [
    "-  1546 - Average"
   ]
  },
  {
   "cell_type": "code",
   "execution_count": 1,
   "metadata": {},
   "outputs": [],
   "source": [
    "import sys\n",
    "\n",
    "N = int(sys.stdin.readline())\n",
    "T = list(map(int, sys.stdin.readline().split()))\n",
    "M = 0\n",
    "sum_test = 0\n",
    "avg_test = 0\n",
    "\n",
    "for i in T :\n",
    "    if M < i :\n",
    "        M = i\n",
    "\n",
    "for j in range(N) :\n",
    "    sum_test += (T[j] / M * 100)\n",
    "    avg_test = sum_test / N\n",
    "\n",
    "print(avg_test)"
   ]
  },
  {
   "cell_type": "markdown",
   "metadata": {},
   "source": [
    "- 11659 - Prefix sum 4"
   ]
  },
  {
   "cell_type": "code",
   "execution_count": null,
   "metadata": {},
   "outputs": [],
   "source": [
    "import sys\n",
    "M, N = (map(int, sys.stdin.readline().split()))\n",
    "\n",
    "T = list(map(int, sys.stdin.readline().split()))\n",
    "sum_t = 0 \n",
    "prefix_sum = [0]\n",
    "\n",
    "for t in T :\n",
    "    sum_t += t\n",
    "    prefix_sum.append(sum_t)\n",
    "\n",
    "\n",
    "for n in range(N) :\n",
    "    min_n, max_n = map(int,sys.stdin.readline().split())\n",
    "    \n",
    "    answer = prefix_sum[max_n] - prefix_sum[min_n - 1]\n",
    "    print(answer)"
   ]
  },
  {
   "cell_type": "markdown",
   "metadata": {},
   "source": [
    "- 11660 - Prefix sum 5\n",
    "  - 2차원 배열 구간 합 구하기\n",
    "  - 합 배열\n",
    "  <br> \n",
    "  : D[i][j] = D[i][j-1] + D[i-1][j] - D[i-1][j-1] + A[i][j]\n",
    "  - 구간 합 배열 \n",
    "  <br>\n",
    "  : Prefix sum = D[x2][y2] - D[x1-1][y2] - D[x2][y1-1] + D[x1-1][y1-1]"
   ]
  },
  {
   "cell_type": "code",
   "execution_count": null,
   "metadata": {},
   "outputs": [],
   "source": [
    "import sys\n",
    "input = sys.stdin.readline\n",
    "\n",
    "N, M = map(int, input().split())\n",
    "array = [[0] * (N+1)]\n",
    "D = [[0] * (N+1) for _ in range(N+1)]\n",
    "\n",
    "for n in range(N) :\n",
    "    row = [0] + [int(x) for x in input().split()]\n",
    "    array.append(row)\n",
    "    \n",
    "for i in range(1, N+1) :\n",
    "    for j in range(1, N+1) :\n",
    "        D[i][j] = D[i][j-1] + D[i-1][j] - D[i-1][j-1] + array[i][j]          \n",
    "    \n",
    "for m in range(M) :\n",
    "    x1, y1, x2, y2 = map(int, input().split())\n",
    "    answer = D[x2][y2] - D[x1-1][y2] - D[x2][y1-1] + D[x1-1][y1-1]\n",
    "    print(answer)"
   ]
  },
  {
   "cell_type": "markdown",
   "metadata": {},
   "source": [
    "- 2750 - Sorting num"
   ]
  },
  {
   "cell_type": "code",
   "execution_count": null,
   "metadata": {},
   "outputs": [],
   "source": [
    "N = int(input())\n",
    "num_list = []\n",
    "\n",
    "for i in range(N) :\n",
    "    num_list.append(int(input()))\n",
    "    \n",
    "for k in range(len(num_list)) :\n",
    "    for j in range(N-1) :\n",
    "        if num_list[j] > num_list[j+1] :\n",
    "            temp = num_list[j]\n",
    "            num_list[j] = num_list[j+1]\n",
    "            num_list[j+1] = temp\n",
    "        \n",
    "for n in num_list :\n",
    "    print(n)"
   ]
  },
  {
   "cell_type": "markdown",
   "metadata": {},
   "source": [
    "- 10986 - 나머지 합"
   ]
  },
  {
   "cell_type": "code",
   "execution_count": null,
   "metadata": {},
   "outputs": [],
   "source": [
    "N, M = map(int)"
   ]
  },
  {
   "cell_type": "markdown",
   "metadata": {},
   "source": [
    "- 1377 - Bubble sort"
   ]
  },
  {
   "cell_type": "code",
   "execution_count": null,
   "metadata": {},
   "outputs": [],
   "source": []
  }
 ],
 "metadata": {
  "kernelspec": {
   "display_name": "Python 3",
   "language": "python",
   "name": "python3"
  },
  "language_info": {
   "codemirror_mode": {
    "name": "ipython",
    "version": 3
   },
   "file_extension": ".py",
   "mimetype": "text/x-python",
   "name": "python",
   "nbconvert_exporter": "python",
   "pygments_lexer": "ipython3",
   "version": "3.9.13"
  },
  "orig_nbformat": 4
 },
 "nbformat": 4,
 "nbformat_minor": 2
}
